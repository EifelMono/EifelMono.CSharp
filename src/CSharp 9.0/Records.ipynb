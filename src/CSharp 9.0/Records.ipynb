{
 "cells": [
  {
   "cell_type": "markdown",
   "metadata": {},
   "source": [
    "# [C# 9.0](#README.ipynb) Records"
   ]
  },
  {
   "cell_type": "code",
   "execution_count": 1,
   "metadata": {},
   "source": [
    "public record Person\r\n",
    "{\r\n",
    "    public string FirstName {get;set;}\r\n",
    "    public string LastName {get;set;}\r\n",
    "    public override string ToString()\r\n",
    "      => $\"{FirstName} {LastName}\";\r\n",
    "}\r\n",
    "\r\n",
    "var andreas= new Person {\r\n",
    "    FirstName= \"Andreas\",\r\n",
    "    LastName= \"Klapperich\"\r\n",
    "};\r\n",
    "\r\n",
    "Console.WriteLine($\"andreas={andreas}\");\r\n",
    "\r\n",
    "var jutta= andreas with {FirstName=\"Jutta\"};\r\n",
    "\r\n",
    "Console.WriteLine($\"andreas={andreas}\");\r\n",
    "Console.WriteLine($\"jutta={jutta}\");\r\n",
    "\r\n",
    "\r\n",
    "\r\n",
    ""
   ],
   "outputs": [
    {
     "output_type": "error",
     "ename": "Error",
     "evalue": "(2,2): error CS1513: } expected\n(7,1): error CS7017: Member definition, statement, or end-of-file expected\n(14,20): error CS1002: ; expected\n(14,25): error CS1002: ; expected\n(14,43): error CS1002: ; expected",
     "traceback": []
    }
   ]
  }
 ],
 "metadata": {
  "kernelspec": {
   "display_name": ".NET (C#)",
   "language": "C#",
   "name": ".net-csharp"
  },
  "language_info": {
   "file_extension": ".cs",
   "mimetype": "text/x-csharp",
   "name": "C#",
   "pygments_lexer": "csharp",
   "version": "8.0"
  }
 },
 "nbformat": 4,
 "nbformat_minor": 4
}