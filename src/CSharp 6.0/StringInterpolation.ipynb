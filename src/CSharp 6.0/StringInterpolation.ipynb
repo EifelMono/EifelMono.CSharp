{
 "cells": [
  {
   "cell_type": "markdown",
   "metadata": {},
   "source": [
    "# StringInterpolation"
   ]
  },
  {
   "cell_type": "code",
   "execution_count": 1,
   "metadata": {},
   "source": [
    "var hello= \"Hello\";\r\n",
    "var world= \"World\";\r\n",
    "Console.WriteLine($\"{hello} {world}\");\r\n",
    ""
   ],
   "outputs": [
    {
     "output_type": "execute_result",
     "data": {
      "text/plain": "Hello World\n"
     },
     "execution_count": 1,
     "metadata": {}
    }
   ]
  },
  {
   "cell_type": "markdown",
   "metadata": {},
   "source": [
    "## with double"
   ]
  },
  {
   "cell_type": "code",
   "execution_count": 1,
   "metadata": {},
   "source": [
    "double number= 1.234;\r\n",
    "Console.WriteLine($\"Number={number}\");\r\n",
    "Console.WriteLine($\"Number={number:0.0}\");\r\n",
    "Console.WriteLine($\"Number={number:0000.0}\");\r\n",
    "Console.WriteLine($\"Number={number:0.000000}\");\r\n",
    "Console.WriteLine($\"Number={number:#.#}\");\r\n",
    "Console.WriteLine($\"Number={number:####.#}\");\r\n",
    "Console.WriteLine($\"Number={number:#.#####}\");"
   ],
   "outputs": [
    {
     "output_type": "execute_result",
     "data": {
      "text/plain": "Number=1.234\n"
     },
     "execution_count": 1,
     "metadata": {}
    },
    {
     "output_type": "execute_result",
     "data": {
      "text/plain": "Number=1.2\n"
     },
     "execution_count": 1,
     "metadata": {}
    },
    {
     "output_type": "execute_result",
     "data": {
      "text/plain": "Number=0001.2\n"
     },
     "execution_count": 1,
     "metadata": {}
    },
    {
     "output_type": "execute_result",
     "data": {
      "text/plain": "Number=1.234000\n"
     },
     "execution_count": 1,
     "metadata": {}
    },
    {
     "output_type": "execute_result",
     "data": {
      "text/plain": "Number=1.2\n"
     },
     "execution_count": 1,
     "metadata": {}
    },
    {
     "output_type": "execute_result",
     "data": {
      "text/plain": "Number=1.2\n"
     },
     "execution_count": 1,
     "metadata": {}
    },
    {
     "output_type": "execute_result",
     "data": {
      "text/plain": "Number=1.234\n"
     },
     "execution_count": 1,
     "metadata": {}
    }
   ]
  },
  {
   "cell_type": "markdown",
   "metadata": {},
   "source": [
    "## with DateTime [Formats](https://docs.microsoft.com/de-de/dotnet/standard/base-types/custom-date-and-time-format-strings)\r\n",
    "\r\n",
    ""
   ]
  },
  {
   "cell_type": "code",
   "execution_count": 1,
   "metadata": {},
   "source": [
    "var dateTime= DateTime.Now;\r\n",
    "Console.WriteLine($\"{dateTime}\");\r\n",
    "Console.WriteLine($\"{dateTime:yyyy.MM.dd}\");\r\n",
    "Console.WriteLine($\"{dateTime:HH:mm:ss,fff}\");\r\n",
    ""
   ],
   "outputs": [
    {
     "output_type": "execute_result",
     "data": {
      "text/plain": "10/02/2020 07:51:08\n"
     },
     "execution_count": 1,
     "metadata": {}
    },
    {
     "output_type": "execute_result",
     "data": {
      "text/plain": "2020.10.02\n"
     },
     "execution_count": 1,
     "metadata": {}
    },
    {
     "output_type": "execute_result",
     "data": {
      "text/plain": "07:51:08,635\n"
     },
     "execution_count": 1,
     "metadata": {}
    }
   ]
  }
 ],
 "metadata": {
  "kernelspec": {
   "display_name": ".NET (C#)",
   "language": "C#",
   "name": ".net-csharp"
  },
  "language_info": {
   "file_extension": ".cs",
   "mimetype": "text/x-csharp",
   "name": "C#",
   "pygments_lexer": "csharp",
   "version": "8.0"
  }
 },
 "nbformat": 4,
 "nbformat_minor": 4
}