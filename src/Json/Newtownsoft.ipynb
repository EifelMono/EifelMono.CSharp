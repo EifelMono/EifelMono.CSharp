{
 "cells": [
  {
   "cell_type": "code",
   "execution_count": 1,
   "metadata": {},
   "source": [
    "using Newtonsoft;\n",
    "\n",
    "\n",
    "public class Test\n",
    "{\n",
    "    public int Width {get;set;}= 0;\n",
    "    public int Length {get;set;}= 0;\n",
    "\n",
    "    public int Surface => Width* Length;\n",
    "}\n",
    "\n",
    "\n",
    "var json = Newtonsoft.Json.JsonConvert.SerializeObject(new Test{Width=2, Length=3});\n",
    "Console.WriteLine(json);\n",
    "var obj1= Newtonsoft.Json.JsonConvert.DeserializeObject<Test>(json);\n",
    "obj1.Length=4;\n",
    "var json1 = Newtonsoft.Json.JsonConvert.SerializeObject(obj1);\n",
    "Console.WriteLine(json1);\n",
    ""
   ],
   "outputs": [
    {
     "output_type": "execute_result",
     "data": {
      "text/plain": "{\"Width\":2,\"Length\":3,\"Surface\":6}\n"
     },
     "execution_count": 1,
     "metadata": {}
    },
    {
     "output_type": "execute_result",
     "data": {
      "text/plain": "{\"Width\":2,\"Length\":4,\"Surface\":8}\n"
     },
     "execution_count": 1,
     "metadata": {}
    }
   ]
  }
 ],
 "metadata": {
  "kernelspec": {
   "display_name": ".NET (C#)",
   "language": "C#",
   "name": ".net-csharp"
  },
  "language_info": {
   "file_extension": ".cs",
   "mimetype": "text/x-csharp",
   "name": "C#",
   "pygments_lexer": "csharp",
   "version": "8.0"
  }
 },
 "nbformat": 4,
 "nbformat_minor": 4
}