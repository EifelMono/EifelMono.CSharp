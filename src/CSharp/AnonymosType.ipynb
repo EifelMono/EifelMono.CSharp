{
 "cells": [
  {
   "cell_type": "markdown",
   "metadata": {},
   "source": [
    "# [C#](%23README.md) Anonymous Type"
   ]
  },
  {
   "cell_type": "markdown",
   "metadata": {},
   "source": [
    "## Create an anomymous object person"
   ]
  },
  {
   "cell_type": "code",
   "execution_count": 1,
   "metadata": {},
   "source": [
    "var person= new \r\n",
    "    {\r\n",
    "        FirstName= \"Andreas\",\r\n",
    "        LastName= \"Klapperich\"\r\n",
    "    };"
   ],
   "outputs": []
  },
  {
   "cell_type": "markdown",
   "metadata": {},
   "source": [
    "## use the anomymous object person"
   ]
  },
  {
   "cell_type": "code",
   "execution_count": 1,
   "metadata": {},
   "source": [
    "Console.WriteLine($\"person.FirstName={person.FirstName}\");\r\n",
    "Console.WriteLine($\"person.LastName={person.LastName}\");"
   ],
   "outputs": [
    {
     "output_type": "execute_result",
     "data": {
      "text/plain": "person.FirstName=Andreas\n"
     },
     "execution_count": 1,
     "metadata": {}
    },
    {
     "output_type": "execute_result",
     "data": {
      "text/plain": "person.LastName=Klapperich\n"
     },
     "execution_count": 1,
     "metadata": {}
    }
   ]
  },
  {
   "cell_type": "markdown",
   "metadata": {},
   "source": [
    "## Create an anomymous object personWithCity \r\n",
    "\r\n",
    "* The personWithCity object uses the properties from FirstName and LastName of the person in different ways.\r\n",
    "* For person.FirstName we use the same name and we need not to write the property name again.\r\n",
    "* But for person.LastName we want to use the name AnOtherLastName."
   ]
  },
  {
   "cell_type": "code",
   "execution_count": 1,
   "metadata": {},
   "source": [
    "var personWithCity= new \r\n",
    "    {\r\n",
    "        person.FirstName,\r\n",
    "        AnOtherLastName= person.LastName,\r\n",
    "        Cip= 56745,\r\n",
    "        City= \"Rieden\"\r\n",
    "    };\r\n",
    "    \r\n",
    "Console.WriteLine($\"personWithCity.FirstName={personWithCity.FirstName}\");\r\n",
    "Console.WriteLine($\"personWithCity.AnOtherLastName={personWithCity.AnOtherLastName}\");\r\n",
    "Console.WriteLine($\"personWithCity.Cip={personWithCity.Cip}\");\r\n",
    "Console.WriteLine($\"personWithCity.City={personWithCity.City}\");"
   ],
   "outputs": [
    {
     "output_type": "execute_result",
     "data": {
      "text/plain": "personWithCity.FirstName=Andreas\n"
     },
     "execution_count": 1,
     "metadata": {}
    },
    {
     "output_type": "execute_result",
     "data": {
      "text/plain": "personWithCity.AnOtherLastName=Klapperich\n"
     },
     "execution_count": 1,
     "metadata": {}
    },
    {
     "output_type": "execute_result",
     "data": {
      "text/plain": "personWithCity.Cip=56745\n"
     },
     "execution_count": 1,
     "metadata": {}
    },
    {
     "output_type": "execute_result",
     "data": {
      "text/plain": "personWithCity.City=Rieden\n"
     },
     "execution_count": 1,
     "metadata": {}
    }
   ]
  }
 ],
 "metadata": {
  "kernelspec": {
   "display_name": ".NET (C#)",
   "language": "C#",
   "name": ".net-csharp"
  },
  "language_info": {
   "file_extension": ".cs",
   "mimetype": "text/x-csharp",
   "name": "C#",
   "pygments_lexer": "csharp",
   "version": "8.0"
  }
 },
 "nbformat": 4,
 "nbformat_minor": 4
}