{
 "cells": [
  {
   "cell_type": "markdown",
   "metadata": {},
   "source": [
    "# [C#](#README.md) Dictionary "
   ]
  },
  {
   "cell_type": "code",
   "execution_count": 1,
   "metadata": {},
   "source": [
    "using System.Collections.Generic;\r\n",
    "using System.Linq;\r\n",
    "\r\n",
    "var dictionary= new Dictionary<string, string>();\r\n",
    "\r\n",
    "dictionary.Add(\"Test1\", \"Value1\");\r\n",
    "\r\n",
    "foreach(var d in dictionary)\r\n",
    "    Console.WriteLine($\"Key={d.Key} Value={d.Value}\");\r\n",
    "\r\n",
    ""
   ],
   "outputs": [
    {
     "output_type": "execute_result",
     "data": {
      "text/plain": "Key=Test1 Value=Value1\n"
     },
     "execution_count": 1,
     "metadata": {}
    }
   ]
  },
  {
   "cell_type": "code",
   "execution_count": 1,
   "metadata": {},
   "source": [
    ""
   ],
   "outputs": []
  }
 ],
 "metadata": {
  "kernelspec": {
   "display_name": ".NET (C#)",
   "language": "C#",
   "name": ".net-csharp"
  },
  "language_info": {
   "file_extension": ".cs",
   "mimetype": "text/x-csharp",
   "name": "C#",
   "pygments_lexer": "csharp",
   "version": "8.0"
  }
 },
 "nbformat": 4,
 "nbformat_minor": 4
}