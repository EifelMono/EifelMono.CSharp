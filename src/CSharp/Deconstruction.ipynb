{
 "cells": [
  {
   "cell_type": "markdown",
   "metadata": {},
   "source": [
    "# [C#](#README.md) deconstruction"
   ]
  },
  {
   "cell_type": "code",
   "execution_count": 1,
   "metadata": {},
   "source": [
    "using System;\r\n",
    "\r\n",
    "public class Address \r\n",
    "{\r\n",
    "    public string FirstName { get; set; }\r\n",
    "    public string LastName { get; set; }\r\n",
    "    public int Cip { get; set; }\r\n",
    "    public string City { get; set; }\r\n",
    "\r\n",
    "    public Address(string firstName, string lastName, int cip, string city)\r\n",
    "    {\r\n",
    "            FirstName = firstName;\r\n",
    "            LastName = lastName;\r\n",
    "            Cip = cip;\r\n",
    "            City = city;\r\n",
    "    }\r\n",
    "\r\n",
    "    public void Deconstruct(out string firstName, out string lastName, out int cip, out string city)\r\n",
    "    {\r\n",
    "        firstName = FirstName;\r\n",
    "        lastName = LastName;\r\n",
    "        cip = Cip;\r\n",
    "        city = City;\r\n",
    "    }\r\n",
    "\r\n",
    "    public void Deconstruct(out string firstName, out string lastName)\r\n",
    "    {\r\n",
    "        firstName = FirstName;\r\n",
    "        lastName = LastName;\r\n",
    "    }\r\n",
    "    public void Deconstruct(out int cip, out string city)\r\n",
    "    {\r\n",
    "        cip = Cip;\r\n",
    "        city = City;\r\n",
    "    }\r\n",
    "\r\n",
    "    public override string ToString()\r\n",
    "        => $\"{FirstName} {LastName} {Cip} {City}\";\r\n",
    "}"
   ],
   "outputs": []
  },
  {
   "cell_type": "markdown",
   "metadata": {},
   "source": [
    "# Create a object"
   ]
  },
  {
   "cell_type": "code",
   "execution_count": 1,
   "metadata": {},
   "source": [
    "var address = new Address(\"Andreas\", \"Klapperich\", 56745, \"Rieden\");\r\n",
    "Console.WriteLine(address);"
   ],
   "outputs": [
    {
     "output_type": "execute_result",
     "data": {
      "text/plain": "Andreas Klapperich 56745 Rieden\n"
     },
     "execution_count": 1,
     "metadata": {}
    }
   ]
  },
  {
   "cell_type": "markdown",
   "metadata": {},
   "source": [
    "# Full deconstruction"
   ]
  },
  {
   "cell_type": "code",
   "execution_count": 1,
   "metadata": {},
   "source": [
    "{\r\n",
    "    var (firstName, lastName, cip, city) = address;\r\n",
    "    Console.WriteLine($\"{firstName} {lastName} {cip} {city}\");\r\n",
    "}\r\n",
    ""
   ],
   "outputs": [
    {
     "output_type": "execute_result",
     "data": {
      "text/plain": "Andreas Klapperich 56745 Rieden\n"
     },
     "execution_count": 1,
     "metadata": {}
    }
   ]
  },
  {
   "cell_type": "markdown",
   "metadata": {},
   "source": [
    "# Only part deconstruction"
   ]
  },
  {
   "cell_type": "code",
   "execution_count": 1,
   "metadata": {},
   "source": [
    "{\r\n",
    "    var (firstName, _, cip, _) = address;\r\n",
    "    Console.WriteLine($\"{firstName} {city}\");\r\n",
    "}"
   ],
   "outputs": [
    {
     "output_type": "execute_result",
     "data": {
      "text/plain": "Andreas Rieden\n"
     },
     "execution_count": 1,
     "metadata": {}
    }
   ]
  },
  {
   "cell_type": "markdown",
   "metadata": {},
   "source": [
    "# Firstname and LastName deconstruction"
   ]
  },
  {
   "cell_type": "code",
   "execution_count": 1,
   "metadata": {},
   "source": [
    "{\r\n",
    "    // This will work in the real world but not here\r\n",
    "    (string firstName, string lastName) = address;\r\n",
    "    Console.WriteLine($\"{firstName} {lastName}\");\r\n",
    "}"
   ],
   "outputs": [
    {
     "output_type": "error",
     "ename": "Error",
     "evalue": "(2,43): error CS0121: The call is ambiguous between the following methods or properties: 'Address.Deconstruct(out string, out string)' and 'Address.Deconstruct(out int, out string)'",
     "traceback": []
    }
   ]
  },
  {
   "cell_type": "markdown",
   "metadata": {},
   "source": [
    "# CIP and City deconstruction"
   ]
  },
  {
   "cell_type": "code",
   "execution_count": 1,
   "metadata": {},
   "source": [
    "{\r\n",
    "    // This will work in the real world but not here\r\n",
    "    (int cip, string city) = address;\r\n",
    "    Console.WriteLine($\"{cip} {city}\");\r\n",
    "}"
   ],
   "outputs": [
    {
     "output_type": "error",
     "ename": "Error",
     "evalue": "(2,30): error CS0121: The call is ambiguous between the following methods or properties: 'Address.Deconstruct(out string, out string)' and 'Address.Deconstruct(out int, out string)'",
     "traceback": []
    }
   ]
  }
 ],
 "metadata": {
  "kernelspec": {
   "display_name": ".NET (C#)",
   "language": "C#",
   "name": ".net-csharp"
  },
  "language_info": {
   "file_extension": ".cs",
   "mimetype": "text/x-csharp",
   "name": "C#",
   "pygments_lexer": "csharp",
   "version": "8.0"
  }
 },
 "nbformat": 4,
 "nbformat_minor": 4
}