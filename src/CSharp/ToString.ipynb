{
 "cells": [
  {
   "cell_type": "code",
   "execution_count": 1,
   "metadata": {},
   "source": [
    "public class NameAndCity\n",
    "{\n",
    "    public string Name {get;set;}\n",
    "    public string City {get;set;}\n",
    "    public override string ToString()\n",
    "        => $\"Name={Name} City={City}\";\n",
    "}\n",
    "\n",
    "public class NameAndCityWithPhomeNumber\n",
    "{\n",
    "    public NameAndCity NameAndCity {get;set;}= new NameAndCity();\n",
    "    public string PhoneNumber {get;set;}\n",
    "    public override string ToString()\n",
    "        => $\"NameAndCity={NameAndCity} PhoneNumber={PhoneNumber}\";\n",
    "}"
   ],
   "outputs": []
  },
  {
   "cell_type": "code",
   "execution_count": 1,
   "metadata": {},
   "source": [
    "var nac= new NameAndCity {Name= \"name\", City=\"city\"};\n",
    "Console.WriteLine(nac);\n",
    ""
   ],
   "outputs": [
    {
     "output_type": "execute_result",
     "data": {
      "text/plain": "Name=name City=city\n"
     },
     "execution_count": 1,
     "metadata": {}
    }
   ]
  },
  {
   "cell_type": "code",
   "execution_count": 1,
   "metadata": {},
   "source": [
    "var nacwp= new NameAndCityWithPhomeNumber{NameAndCity= new NameAndCity{ Name= \"name\", City=\"city\"}, PhoneNumber=\"phoneNumber\"};\n",
    "Console.WriteLine(nacwp);\n",
    ""
   ],
   "outputs": [
    {
     "output_type": "execute_result",
     "data": {
      "text/plain": "NameAndCity=Name=name City=city PhoneNumber=phoneNumber\n"
     },
     "execution_count": 1,
     "metadata": {}
    }
   ]
  }
 ],
 "metadata": {
  "kernelspec": {
   "display_name": ".NET (C#)",
   "language": "C#",
   "name": ".net-csharp"
  },
  "language_info": {
   "file_extension": ".cs",
   "mimetype": "text/x-csharp",
   "name": "C#",
   "pygments_lexer": "csharp",
   "version": "8.0"
  }
 },
 "nbformat": 4,
 "nbformat_minor": 4
}