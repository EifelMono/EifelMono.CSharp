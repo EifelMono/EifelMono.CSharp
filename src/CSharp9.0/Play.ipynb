{
 "cells": [
  {
   "cell_type": "markdown",
   "metadata": {},
   "source": [
    "# C# 9.0\r\n",
    "more infos can be found at [Microsoft](https://docs.microsoft.com/de-de/dotnet/csharp/whats-new/csharp-9)"
   ]
  },
  {
   "cell_type": "code",
   "execution_count": 1,
   "metadata": {},
   "source": [
    "public data Record\r\n",
    "{\r\n",
    "    public string FirstName {get;set;}\r\n",
    "    public string LastName {get;set;}\r\n",
    "}\r\n",
    "\r\n",
    "var x= new Record\r\n",
    "\r\n",
    ""
   ],
   "outputs": []
  }
 ],
 "metadata": {
  "kernelspec": {
   "display_name": ".NET (C#)",
   "language": "C#",
   "name": ".net-csharp"
  },
  "language_info": {
   "file_extension": ".cs",
   "mimetype": "text/x-csharp",
   "name": "C#",
   "pygments_lexer": "csharp",
   "version": "8.0"
  }
 },
 "nbformat": 4,
 "nbformat_minor": 4
}